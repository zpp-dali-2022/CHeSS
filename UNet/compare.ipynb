{
 "cells": [
  {
   "cell_type": "code",
   "execution_count": 1,
   "metadata": {},
   "outputs": [],
   "source": [
    "import subprocess\n",
    "import time"
   ]
  },
  {
   "cell_type": "code",
   "execution_count": 5,
   "metadata": {},
   "outputs": [
    {
     "name": "stderr",
     "output_type": "stream",
     "text": [
      "2023-05-29 01:30:24.430606: I tensorflow/core/util/port.cc:110] oneDNN custom operations are on. You may see slightly different numerical results due to floating-point round-off errors from different computation orders. To turn them off, set the environment variable `TF_ENABLE_ONEDNN_OPTS=0`.\n",
      "2023-05-29 01:30:24.462979: I tensorflow/core/platform/cpu_feature_guard.cc:182] This TensorFlow binary is optimized to use available CPU instructions in performance-critical operations.\n",
      "To enable the following instructions: AVX2 AVX512F AVX512_VNNI FMA, in other operations, rebuild TensorFlow with the appropriate compiler flags.\n",
      "2023-05-29 01:30:24.996387: W tensorflow/compiler/tf2tensorrt/utils/py_utils.cc:38] TF-TRT Warning: Could not find TensorRT\n",
      "2023-05-29 01:30:25.988576: W tensorflow/core/common_runtime/gpu/gpu_device.cc:1956] Cannot dlopen some GPU libraries. Please make sure the missing libraries mentioned above are installed properly if you would like to use GPU. Follow the guide at https://www.tensorflow.org/install/gpu for how to download and setup the required libraries for your platform.\n",
      "Skipping registering GPU devices...\n"
     ]
    },
    {
     "name": "stdout",
     "output_type": "stream",
     "text": [
      "Using CPUs\n"
     ]
    },
    {
     "name": "stderr",
     "output_type": "stream",
     "text": [
      "2023-05-29 01:30:27.179532: I tensorflow/core/common_runtime/executor.cc:1197] [/device:CPU:0] (DEBUG INFO) Executor start aborting (this does not indicate an error and you can ignore this message): INVALID_ARGUMENT: You must feed a value for placeholder tensor 'Placeholder/_1' with dtype string and shape [790]\n",
      "\t [[{{node Placeholder/_1}}]]\n",
      "2023-05-29 01:30:27.179764: I tensorflow/core/common_runtime/executor.cc:1197] [/device:CPU:0] (DEBUG INFO) Executor start aborting (this does not indicate an error and you can ignore this message): INVALID_ARGUMENT: You must feed a value for placeholder tensor 'Placeholder/_1' with dtype string and shape [790]\n",
      "\t [[{{node Placeholder/_1}}]]\n"
     ]
    },
    {
     "name": "stdout",
     "output_type": "stream",
     "text": [
      "Epoch 1/10\n",
      "49/49 [==============================] - ETA: 0s - loss: 1.1490 - accuracy: 0.9510"
     ]
    },
    {
     "name": "stderr",
     "output_type": "stream",
     "text": [
      "2023-05-29 01:35:40.394315: I tensorflow/core/common_runtime/executor.cc:1197] [/device:CPU:0] (DEBUG INFO) Executor start aborting (this does not indicate an error and you can ignore this message): INVALID_ARGUMENT: You must feed a value for placeholder tensor 'Placeholder/_0' with dtype string and shape [198]\n",
      "\t [[{{node Placeholder/_0}}]]\n",
      "2023-05-29 01:35:40.394816: I tensorflow/core/common_runtime/executor.cc:1197] [/device:CPU:0] (DEBUG INFO) Executor start aborting (this does not indicate an error and you can ignore this message): INVALID_ARGUMENT: You must feed a value for placeholder tensor 'Placeholder/_0' with dtype string and shape [198]\n",
      "\t [[{{node Placeholder/_0}}]]\n"
     ]
    },
    {
     "name": "stdout",
     "output_type": "stream",
     "text": [
      "49/49 [==============================] - 360s 7s/step - loss: 1.1490 - accuracy: 0.9510 - val_loss: 1.1852 - val_accuracy: 0.9852\n",
      "Epoch 2/10\n",
      "49/49 [==============================] - 321s 7s/step - loss: 0.0166 - accuracy: 0.9943 - val_loss: 0.1996 - val_accuracy: 0.9852\n",
      "Epoch 3/10\n",
      "49/49 [==============================] - 320s 7s/step - loss: 0.0137 - accuracy: 0.9948 - val_loss: 0.2246 - val_accuracy: 0.9852\n",
      "Epoch 4/10\n",
      "49/49 [==============================] - 322s 7s/step - loss: 0.0124 - accuracy: 0.9950 - val_loss: 0.3100 - val_accuracy: 0.9852\n",
      "Epoch 5/10\n",
      "49/49 [==============================] - 322s 7s/step - loss: 0.0120 - accuracy: 0.9953 - val_loss: 0.3276 - val_accuracy: 0.9853\n",
      "Epoch 6/10\n",
      "49/49 [==============================] - 325s 7s/step - loss: 0.0109 - accuracy: 0.9956 - val_loss: 0.2995 - val_accuracy: 0.9854\n",
      "Epoch 7/10\n",
      "49/49 [==============================] - 322s 7s/step - loss: 0.0104 - accuracy: 0.9958 - val_loss: 0.2257 - val_accuracy: 0.9865\n",
      "Epoch 8/10\n",
      "49/49 [==============================] - 323s 7s/step - loss: 0.0099 - accuracy: 0.9960 - val_loss: 0.1102 - val_accuracy: 0.9890\n",
      "Epoch 9/10\n",
      "49/49 [==============================] - 325s 7s/step - loss: 0.0088 - accuracy: 0.9963 - val_loss: 0.0707 - val_accuracy: 0.9913\n",
      "Epoch 10/10\n",
      "49/49 [==============================] - 323s 7s/step - loss: 0.0083 - accuracy: 0.9966 - val_loss: 0.0301 - val_accuracy: 0.9938\n"
     ]
    },
    {
     "name": "stderr",
     "output_type": "stream",
     "text": [
      "2023-05-29 02:24:51.010822: I tensorflow/core/common_runtime/executor.cc:1197] [/device:CPU:0] (DEBUG INFO) Executor start aborting (this does not indicate an error and you can ignore this message): INVALID_ARGUMENT: You must feed a value for placeholder tensor 'inputs' with dtype float and shape [?,?,?,?]\n",
      "\t [[{{node inputs}}]]\n",
      "2023-05-29 02:24:51.061695: I tensorflow/core/common_runtime/executor.cc:1197] [/device:CPU:0] (DEBUG INFO) Executor start aborting (this does not indicate an error and you can ignore this message): INVALID_ARGUMENT: You must feed a value for placeholder tensor 'inputs' with dtype float and shape [?,?,?,?]\n",
      "\t [[{{node inputs}}]]\n",
      "2023-05-29 02:24:51.113536: I tensorflow/core/common_runtime/executor.cc:1197] [/device:CPU:0] (DEBUG INFO) Executor start aborting (this does not indicate an error and you can ignore this message): INVALID_ARGUMENT: You must feed a value for placeholder tensor 'inputs' with dtype float and shape [?,?,?,?]\n",
      "\t [[{{node inputs}}]]\n",
      "2023-05-29 02:24:51.164603: I tensorflow/core/common_runtime/executor.cc:1197] [/device:CPU:0] (DEBUG INFO) Executor start aborting (this does not indicate an error and you can ignore this message): INVALID_ARGUMENT: You must feed a value for placeholder tensor 'inputs' with dtype float and shape [?,?,?,?]\n",
      "\t [[{{node inputs}}]]\n",
      "2023-05-29 02:24:53.467635: I tensorflow/core/common_runtime/executor.cc:1197] [/device:CPU:0] (DEBUG INFO) Executor start aborting (this does not indicate an error and you can ignore this message): INVALID_ARGUMENT: You must feed a value for placeholder tensor 'inputs' with dtype float and shape [?,?,?,?]\n",
      "\t [[{{node inputs}}]]\n",
      "2023-05-29 02:24:53.562721: I tensorflow/core/common_runtime/executor.cc:1197] [/device:CPU:0] (DEBUG INFO) Executor start aborting (this does not indicate an error and you can ignore this message): INVALID_ARGUMENT: You must feed a value for placeholder tensor 'inputs' with dtype float and shape [?,?,?,?]\n",
      "\t [[{{node inputs}}]]\n",
      "2023-05-29 02:24:53.657811: I tensorflow/core/common_runtime/executor.cc:1197] [/device:CPU:0] (DEBUG INFO) Executor start aborting (this does not indicate an error and you can ignore this message): INVALID_ARGUMENT: You must feed a value for placeholder tensor 'inputs' with dtype float and shape [?,?,?,?]\n",
      "\t [[{{node inputs}}]]\n",
      "2023-05-29 02:24:53.754295: I tensorflow/core/common_runtime/executor.cc:1197] [/device:CPU:0] (DEBUG INFO) Executor start aborting (this does not indicate an error and you can ignore this message): INVALID_ARGUMENT: You must feed a value for placeholder tensor 'inputs' with dtype float and shape [?,?,?,?]\n",
      "\t [[{{node inputs}}]]\n",
      "WARNING:absl:Found untraced functions such as _jit_compiled_convolution_op, _jit_compiled_convolution_op, _jit_compiled_convolution_op, _jit_compiled_convolution_op, _jit_compiled_convolution_op while saving (showing 5 of 33). These functions will not be directly callable after loading.\n"
     ]
    }
   ],
   "source": [
    "# not DALI\n",
    "start = time.time()\n",
    "subprocess.run([\"python\", \"train.py\"], check=True)\n",
    "end = time.time()\n",
    "not_dali_time = end - start"
   ]
  },
  {
   "cell_type": "code",
   "execution_count": 14,
   "metadata": {},
   "outputs": [
    {
     "name": "stderr",
     "output_type": "stream",
     "text": [
      "2023-05-29 02:40:00.874139: I tensorflow/core/util/port.cc:110] oneDNN custom operations are on. You may see slightly different numerical results due to floating-point round-off errors from different computation orders. To turn them off, set the environment variable `TF_ENABLE_ONEDNN_OPTS=0`.\n",
      "2023-05-29 02:40:00.960293: I tensorflow/core/platform/cpu_feature_guard.cc:182] This TensorFlow binary is optimized to use available CPU instructions in performance-critical operations.\n",
      "To enable the following instructions: AVX2 AVX512F AVX512_VNNI FMA, in other operations, rebuild TensorFlow with the appropriate compiler flags.\n",
      "2023-05-29 02:40:01.545488: W tensorflow/compiler/tf2tensorrt/utils/py_utils.cc:38] TF-TRT Warning: Could not find TensorRT\n",
      "2023-05-29 02:40:02.649974: W tensorflow/core/common_runtime/gpu/gpu_device.cc:1956] Cannot dlopen some GPU libraries. Please make sure the missing libraries mentioned above are installed properly if you would like to use GPU. Follow the guide at https://www.tensorflow.org/install/gpu for how to download and setup the required libraries for your platform.\n",
      "Skipping registering GPU devices...\n"
     ]
    },
    {
     "name": "stdout",
     "output_type": "stream",
     "text": [
      "Using CPUs\n",
      "Creating DALI pipeline\n",
      "Creating DALI pipeline\n",
      "Epoch 1/10\n",
      "49/49 [==============================] - 361s 7s/step - loss: 131.8738 - accuracy: 0.9136 - val_loss: 0.9611 - val_accuracy: 0.9793\n",
      "Epoch 2/10\n",
      "49/49 [==============================] - 361s 7s/step - loss: 0.6247 - accuracy: 0.9714 - val_loss: 0.1225 - val_accuracy: 0.9794\n",
      "Epoch 3/10\n",
      "49/49 [==============================] - 392s 8s/step - loss: 0.1846 - accuracy: 0.9746 - val_loss: 0.0812 - val_accuracy: 0.9799\n",
      "Epoch 4/10\n",
      "49/49 [==============================] - 366s 7s/step - loss: 0.0449 - accuracy: 0.9831 - val_loss: 0.0670 - val_accuracy: 0.9815\n",
      "Epoch 5/10\n",
      "49/49 [==============================] - 354s 7s/step - loss: 0.0311 - accuracy: 0.9851 - val_loss: 0.0497 - val_accuracy: 0.9827\n",
      "Epoch 6/10\n",
      "49/49 [==============================] - 351s 7s/step - loss: 0.0241 - accuracy: 0.9863 - val_loss: 0.0355 - val_accuracy: 0.9839\n",
      "Epoch 7/10\n",
      "49/49 [==============================] - 353s 7s/step - loss: 0.0217 - accuracy: 0.9867 - val_loss: 0.0428 - val_accuracy: 0.9836\n",
      "Epoch 8/10\n",
      "49/49 [==============================] - 349s 7s/step - loss: 0.0228 - accuracy: 0.9866 - val_loss: 0.0394 - val_accuracy: 0.9837\n",
      "Epoch 9/10\n",
      "49/49 [==============================] - 351s 7s/step - loss: 0.0217 - accuracy: 0.9867 - val_loss: 0.0236 - val_accuracy: 0.9858\n",
      "Epoch 10/10\n",
      "49/49 [==============================] - 349s 7s/step - loss: 0.0203 - accuracy: 0.9869 - val_loss: 0.0256 - val_accuracy: 0.9858\n"
     ]
    },
    {
     "name": "stderr",
     "output_type": "stream",
     "text": [
      "2023-05-29 03:39:50.882329: I tensorflow/core/common_runtime/executor.cc:1197] [/device:CPU:0] (DEBUG INFO) Executor start aborting (this does not indicate an error and you can ignore this message): INVALID_ARGUMENT: You must feed a value for placeholder tensor 'inputs' with dtype float and shape [?,?,?,?]\n",
      "\t [[{{node inputs}}]]\n",
      "2023-05-29 03:39:50.936639: I tensorflow/core/common_runtime/executor.cc:1197] [/device:CPU:0] (DEBUG INFO) Executor start aborting (this does not indicate an error and you can ignore this message): INVALID_ARGUMENT: You must feed a value for placeholder tensor 'inputs' with dtype float and shape [?,?,?,?]\n",
      "\t [[{{node inputs}}]]\n",
      "2023-05-29 03:39:50.989733: I tensorflow/core/common_runtime/executor.cc:1197] [/device:CPU:0] (DEBUG INFO) Executor start aborting (this does not indicate an error and you can ignore this message): INVALID_ARGUMENT: You must feed a value for placeholder tensor 'inputs' with dtype float and shape [?,?,?,?]\n",
      "\t [[{{node inputs}}]]\n",
      "2023-05-29 03:39:51.041106: I tensorflow/core/common_runtime/executor.cc:1197] [/device:CPU:0] (DEBUG INFO) Executor start aborting (this does not indicate an error and you can ignore this message): INVALID_ARGUMENT: You must feed a value for placeholder tensor 'inputs' with dtype float and shape [?,?,?,?]\n",
      "\t [[{{node inputs}}]]\n",
      "2023-05-29 03:39:53.385240: I tensorflow/core/common_runtime/executor.cc:1197] [/device:CPU:0] (DEBUG INFO) Executor start aborting (this does not indicate an error and you can ignore this message): INVALID_ARGUMENT: You must feed a value for placeholder tensor 'inputs' with dtype float and shape [?,?,?,?]\n",
      "\t [[{{node inputs}}]]\n",
      "2023-05-29 03:39:53.479762: I tensorflow/core/common_runtime/executor.cc:1197] [/device:CPU:0] (DEBUG INFO) Executor start aborting (this does not indicate an error and you can ignore this message): INVALID_ARGUMENT: You must feed a value for placeholder tensor 'inputs' with dtype float and shape [?,?,?,?]\n",
      "\t [[{{node inputs}}]]\n",
      "2023-05-29 03:39:53.574474: I tensorflow/core/common_runtime/executor.cc:1197] [/device:CPU:0] (DEBUG INFO) Executor start aborting (this does not indicate an error and you can ignore this message): INVALID_ARGUMENT: You must feed a value for placeholder tensor 'inputs' with dtype float and shape [?,?,?,?]\n",
      "\t [[{{node inputs}}]]\n",
      "2023-05-29 03:39:53.669018: I tensorflow/core/common_runtime/executor.cc:1197] [/device:CPU:0] (DEBUG INFO) Executor start aborting (this does not indicate an error and you can ignore this message): INVALID_ARGUMENT: You must feed a value for placeholder tensor 'inputs' with dtype float and shape [?,?,?,?]\n",
      "\t [[{{node inputs}}]]\n",
      "WARNING:absl:Found untraced functions such as _jit_compiled_convolution_op, _jit_compiled_convolution_op, _jit_compiled_convolution_op, _jit_compiled_convolution_op, _jit_compiled_convolution_op while saving (showing 5 of 33). These functions will not be directly callable after loading.\n"
     ]
    }
   ],
   "source": [
    "# DALI\n",
    "start = time.time()\n",
    "subprocess.run([\"python\", \"train.py\", \"--use_dali\"], check=True)\n",
    "end = time.time()\n",
    "dali_time = end - start"
   ]
  },
  {
   "cell_type": "code",
   "execution_count": 15,
   "metadata": {},
   "outputs": [
    {
     "name": "stdout",
     "output_type": "stream",
     "text": [
      "Time for astropy: 3273.6144921779633 s\n",
      "Time for DALI: 3600.034068584442 s\n",
      "DALI is 326.4195764064789 s faster than astropy\n",
      "DALI is 0.9093287535095941 times faster than astropy\n"
     ]
    }
   ],
   "source": [
    "print(f\"Time for astropy: {not_dali_time} s\")\n",
    "print(f\"Time for DALI: {dali_time} s\")\n",
    "diff = dali_time - not_dali_time\n",
    "print(f\"DALI is {diff} s faster than astropy\")\n",
    "speedup = not_dali_time / dali_time\n",
    "print(f\"DALI is {speedup} times faster than astropy\")"
   ]
  },
  {
   "cell_type": "code",
   "execution_count": 8,
   "metadata": {},
   "outputs": [
    {
     "name": "stderr",
     "output_type": "stream",
     "text": [
      "2023-05-29 02:25:56.341846: I tensorflow/core/util/port.cc:110] oneDNN custom operations are on. You may see slightly different numerical results due to floating-point round-off errors from different computation orders. To turn them off, set the environment variable `TF_ENABLE_ONEDNN_OPTS=0`.\n",
      "2023-05-29 02:25:56.374262: I tensorflow/core/platform/cpu_feature_guard.cc:182] This TensorFlow binary is optimized to use available CPU instructions in performance-critical operations.\n",
      "To enable the following instructions: AVX2 AVX512F AVX512_VNNI FMA, in other operations, rebuild TensorFlow with the appropriate compiler flags.\n",
      "2023-05-29 02:25:56.913495: W tensorflow/compiler/tf2tensorrt/utils/py_utils.cc:38] TF-TRT Warning: Could not find TensorRT\n",
      "usage: train.py [-h] [--use_dali]\n",
      "train.py: error: unrecognized arguments: --GPU\n"
     ]
    },
    {
     "ename": "CalledProcessError",
     "evalue": "Command '['python', 'train.py', '--use_dali', '--GPU']' returned non-zero exit status 2.",
     "output_type": "error",
     "traceback": [
      "\u001b[0;31m---------------------------------------------------------------------------\u001b[0m",
      "\u001b[0;31mCalledProcessError\u001b[0m                        Traceback (most recent call last)",
      "Cell \u001b[0;32mIn[8], line 3\u001b[0m\n\u001b[1;32m      1\u001b[0m \u001b[39m# DALI, GPU\u001b[39;00m\n\u001b[1;32m      2\u001b[0m start \u001b[39m=\u001b[39m time\u001b[39m.\u001b[39mtime()\n\u001b[0;32m----> 3\u001b[0m subprocess\u001b[39m.\u001b[39;49mrun([\u001b[39m\"\u001b[39;49m\u001b[39mpython\u001b[39;49m\u001b[39m\"\u001b[39;49m, \u001b[39m\"\u001b[39;49m\u001b[39mtrain.py\u001b[39;49m\u001b[39m\"\u001b[39;49m, \u001b[39m\"\u001b[39;49m\u001b[39m--use_dali\u001b[39;49m\u001b[39m\"\u001b[39;49m, \u001b[39m\"\u001b[39;49m\u001b[39m--GPU\u001b[39;49m\u001b[39m\"\u001b[39;49m], check\u001b[39m=\u001b[39;49m\u001b[39mTrue\u001b[39;49;00m)\n\u001b[1;32m      4\u001b[0m end \u001b[39m=\u001b[39m time\u001b[39m.\u001b[39mtime()\n\u001b[1;32m      5\u001b[0m dali_gpu_time \u001b[39m=\u001b[39m end \u001b[39m-\u001b[39m start\n",
      "File \u001b[0;32m/usr/lib/python3.10/subprocess.py:524\u001b[0m, in \u001b[0;36mrun\u001b[0;34m(input, capture_output, timeout, check, *popenargs, **kwargs)\u001b[0m\n\u001b[1;32m    522\u001b[0m     retcode \u001b[39m=\u001b[39m process\u001b[39m.\u001b[39mpoll()\n\u001b[1;32m    523\u001b[0m     \u001b[39mif\u001b[39;00m check \u001b[39mand\u001b[39;00m retcode:\n\u001b[0;32m--> 524\u001b[0m         \u001b[39mraise\u001b[39;00m CalledProcessError(retcode, process\u001b[39m.\u001b[39margs,\n\u001b[1;32m    525\u001b[0m                                  output\u001b[39m=\u001b[39mstdout, stderr\u001b[39m=\u001b[39mstderr)\n\u001b[1;32m    526\u001b[0m \u001b[39mreturn\u001b[39;00m CompletedProcess(process\u001b[39m.\u001b[39margs, retcode, stdout, stderr)\n",
      "\u001b[0;31mCalledProcessError\u001b[0m: Command '['python', 'train.py', '--use_dali', '--GPU']' returned non-zero exit status 2."
     ]
    }
   ],
   "source": [
    "# DALI, GPU\n",
    "start = time.time()\n",
    "subprocess.run([\"python\", \"train.py\", \"--use_dali\", \"--GPU\"], check=True)\n",
    "end = time.time()\n",
    "dali_gpu_time = end - start\n",
    "\n",
    "print(f\"Time for DALI (GPU): {dali_gpu_time} s\")"
   ]
  }
 ],
 "metadata": {
  "kernelspec": {
   "display_name": "virtual_dali",
   "language": "python",
   "name": "python3"
  },
  "language_info": {
   "codemirror_mode": {
    "name": "ipython",
    "version": 3
   },
   "file_extension": ".py",
   "mimetype": "text/x-python",
   "name": "python",
   "nbconvert_exporter": "python",
   "pygments_lexer": "ipython3",
   "version": "3.10.6"
  },
  "orig_nbformat": 4
 },
 "nbformat": 4,
 "nbformat_minor": 2
}
